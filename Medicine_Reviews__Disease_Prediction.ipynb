{
 "metadata": {
  "kernelspec": {
   "language": "python",
   "display_name": "Python 3",
   "name": "python3"
  },
  "language_info": {
   "name": "python",
   "version": "3.10.12",
   "mimetype": "text/x-python",
   "codemirror_mode": {
    "name": "ipython",
    "version": 3
   },
   "pygments_lexer": "ipython3",
   "nbconvert_exporter": "python",
   "file_extension": ".py"
  },
  "kaggle": {
   "accelerator": "none",
   "dataSources": [
    {
     "sourceId": 171475,
     "sourceType": "datasetVersion",
     "datasetId": 76158
    }
   ],
   "dockerImageVersionId": 30839,
   "isInternetEnabled": true,
   "language": "python",
   "sourceType": "notebook",
   "isGpuEnabled": false
  },
  "colab": {
   "name": "Medicine Reviews| Disease Prediction|NLP💊🩺",
   "provenance": []
  }
 },
 "nbformat_minor": 0,
 "nbformat": 4,
 "cells": [
  {
   "cell_type": "code",
   "source": [
    "import pandas as pd\n",
    "import itertools\n",
    "import string\n",
    "import numpy as np\n",
    "import seaborn as sns\n",
    "import nltk\n",
    "from sklearn.feature_extraction.text import CountVectorizer,TfidfVectorizer\n",
    "from sklearn.model_selection import train_test_split\n",
    "from sklearn.linear_model import PassiveAggressiveClassifier\n",
    "from sklearn.naive_bayes import MultinomialNB\n",
    "from sklearn import metrics\n",
    "import matplotlib.pyplot as plt\n",
    "%matplotlib inline\n",
    "\n",
    "pd.set_option('display.max_rows', None)\n"
   ],
   "metadata": {
    "trusted": true,
    "execution": {
     "iopub.status.busy": "2025-01-17T14:50:41.777321Z",
     "iopub.execute_input": "2025-01-17T14:50:41.77791Z",
     "iopub.status.idle": "2025-01-17T14:50:43.893882Z",
     "shell.execute_reply.started": "2025-01-17T14:50:41.777875Z",
     "shell.execute_reply": "2025-01-17T14:50:43.892492Z"
    },
    "id": "JaKKFO3XfKEO",
    "ExecuteTime": {
     "end_time": "2025-05-07T17:57:07.551115Z",
     "start_time": "2025-05-07T17:57:07.048967Z"
    }
   },
   "outputs": [],
   "execution_count": 1
  },
  {
   "cell_type": "code",
   "source": "df=pd.read_csv('D:/python/project/7102/group/group/input/kuc-hackathon-winter-2018/drugsComTrain_raw.csv')",
   "metadata": {
    "trusted": true,
    "execution": {
     "iopub.status.busy": "2025-01-17T14:50:43.89626Z",
     "iopub.execute_input": "2025-01-17T14:50:43.896801Z",
     "iopub.status.idle": "2025-01-17T14:50:46.264401Z",
     "shell.execute_reply.started": "2025-01-17T14:50:43.896745Z",
     "shell.execute_reply": "2025-01-17T14:50:46.263041Z"
    },
    "id": "s_LdNQulfKEO",
    "ExecuteTime": {
     "end_time": "2025-05-07T17:57:08.428199Z",
     "start_time": "2025-05-07T17:57:07.554278Z"
    }
   },
   "outputs": [],
   "execution_count": 2
  },
  {
   "cell_type": "code",
   "source": [
    "df.head()"
   ],
   "metadata": {
    "trusted": true,
    "execution": {
     "iopub.status.busy": "2025-01-17T14:50:46.266173Z",
     "iopub.execute_input": "2025-01-17T14:50:46.266474Z",
     "iopub.status.idle": "2025-01-17T14:50:46.293162Z",
     "shell.execute_reply.started": "2025-01-17T14:50:46.26645Z",
     "shell.execute_reply": "2025-01-17T14:50:46.291913Z"
    },
    "id": "4rZb97ivfKEP",
    "ExecuteTime": {
     "end_time": "2025-05-07T17:57:08.481150Z",
     "start_time": "2025-05-07T17:57:08.428199Z"
    }
   },
   "outputs": [
    {
     "data": {
      "text/plain": [
       "   uniqueID                  drugName                     condition  \\\n",
       "0    206461                 Valsartan  Left Ventricular Dysfunction   \n",
       "1     95260                Guanfacine                          ADHD   \n",
       "2     92703                    Lybrel                 Birth Control   \n",
       "3    138000                Ortho Evra                 Birth Control   \n",
       "4     35696  Buprenorphine / naloxone             Opiate Dependence   \n",
       "\n",
       "                                              review  rating       date  \\\n",
       "0  \"It has no side effect, I take it in combinati...       9  20-May-12   \n",
       "1  \"My son is halfway through his fourth week of ...       8  27-Apr-10   \n",
       "2  \"I used to take another oral contraceptive, wh...       5  14-Dec-09   \n",
       "3  \"This is my first time using any form of birth...       8   3-Nov-15   \n",
       "4  \"Suboxone has completely turned my life around...       9  27-Nov-16   \n",
       "\n",
       "   usefulCount  \n",
       "0           27  \n",
       "1          192  \n",
       "2           17  \n",
       "3           10  \n",
       "4           37  "
      ],
      "text/html": [
       "<div>\n",
       "<style scoped>\n",
       "    .dataframe tbody tr th:only-of-type {\n",
       "        vertical-align: middle;\n",
       "    }\n",
       "\n",
       "    .dataframe tbody tr th {\n",
       "        vertical-align: top;\n",
       "    }\n",
       "\n",
       "    .dataframe thead th {\n",
       "        text-align: right;\n",
       "    }\n",
       "</style>\n",
       "<table border=\"1\" class=\"dataframe\">\n",
       "  <thead>\n",
       "    <tr style=\"text-align: right;\">\n",
       "      <th></th>\n",
       "      <th>uniqueID</th>\n",
       "      <th>drugName</th>\n",
       "      <th>condition</th>\n",
       "      <th>review</th>\n",
       "      <th>rating</th>\n",
       "      <th>date</th>\n",
       "      <th>usefulCount</th>\n",
       "    </tr>\n",
       "  </thead>\n",
       "  <tbody>\n",
       "    <tr>\n",
       "      <th>0</th>\n",
       "      <td>206461</td>\n",
       "      <td>Valsartan</td>\n",
       "      <td>Left Ventricular Dysfunction</td>\n",
       "      <td>\"It has no side effect, I take it in combinati...</td>\n",
       "      <td>9</td>\n",
       "      <td>20-May-12</td>\n",
       "      <td>27</td>\n",
       "    </tr>\n",
       "    <tr>\n",
       "      <th>1</th>\n",
       "      <td>95260</td>\n",
       "      <td>Guanfacine</td>\n",
       "      <td>ADHD</td>\n",
       "      <td>\"My son is halfway through his fourth week of ...</td>\n",
       "      <td>8</td>\n",
       "      <td>27-Apr-10</td>\n",
       "      <td>192</td>\n",
       "    </tr>\n",
       "    <tr>\n",
       "      <th>2</th>\n",
       "      <td>92703</td>\n",
       "      <td>Lybrel</td>\n",
       "      <td>Birth Control</td>\n",
       "      <td>\"I used to take another oral contraceptive, wh...</td>\n",
       "      <td>5</td>\n",
       "      <td>14-Dec-09</td>\n",
       "      <td>17</td>\n",
       "    </tr>\n",
       "    <tr>\n",
       "      <th>3</th>\n",
       "      <td>138000</td>\n",
       "      <td>Ortho Evra</td>\n",
       "      <td>Birth Control</td>\n",
       "      <td>\"This is my first time using any form of birth...</td>\n",
       "      <td>8</td>\n",
       "      <td>3-Nov-15</td>\n",
       "      <td>10</td>\n",
       "    </tr>\n",
       "    <tr>\n",
       "      <th>4</th>\n",
       "      <td>35696</td>\n",
       "      <td>Buprenorphine / naloxone</td>\n",
       "      <td>Opiate Dependence</td>\n",
       "      <td>\"Suboxone has completely turned my life around...</td>\n",
       "      <td>9</td>\n",
       "      <td>27-Nov-16</td>\n",
       "      <td>37</td>\n",
       "    </tr>\n",
       "  </tbody>\n",
       "</table>\n",
       "</div>"
      ]
     },
     "execution_count": 3,
     "metadata": {},
     "output_type": "execute_result"
    }
   ],
   "execution_count": 3
  },
  {
   "cell_type": "code",
   "source": "df_train=df[(df['condition']=='Birth Control')| (df['condition']=='Depression')| (df['condition']=='Pain')|(df['condition']=='Anxiety')]",
   "metadata": {
    "trusted": true,
    "execution": {
     "iopub.status.busy": "2025-01-17T14:50:46.294208Z",
     "iopub.execute_input": "2025-01-17T14:50:46.294512Z",
     "iopub.status.idle": "2025-01-17T14:50:46.396851Z",
     "shell.execute_reply.started": "2025-01-17T14:50:46.294485Z",
     "shell.execute_reply": "2025-01-17T14:50:46.395673Z"
    },
    "id": "lV8mRbfSfKEQ",
    "ExecuteTime": {
     "end_time": "2025-05-07T17:57:14.458275Z",
     "start_time": "2025-05-07T17:57:14.411412Z"
    }
   },
   "outputs": [],
   "execution_count": 4
  },
  {
   "cell_type": "code",
   "source": [
    "df_train.shape"
   ],
   "metadata": {
    "trusted": true,
    "execution": {
     "iopub.status.busy": "2025-01-17T14:50:46.397931Z",
     "iopub.execute_input": "2025-01-17T14:50:46.398217Z",
     "iopub.status.idle": "2025-01-17T14:50:46.404723Z",
     "shell.execute_reply.started": "2025-01-17T14:50:46.398194Z",
     "shell.execute_reply": "2025-01-17T14:50:46.40339Z"
    },
    "id": "MIprX_vDfKER",
    "ExecuteTime": {
     "end_time": "2025-05-07T17:57:27.786421Z",
     "start_time": "2025-05-07T17:57:27.770607Z"
    }
   },
   "outputs": [
    {
     "data": {
      "text/plain": [
       "(49906, 7)"
      ]
     },
     "execution_count": 5,
     "metadata": {},
     "output_type": "execute_result"
    }
   ],
   "execution_count": 5
  },
  {
   "cell_type": "code",
   "source": [
    "X=df_train.drop(['drugName','rating','date','usefulCount'],axis=1)"
   ],
   "metadata": {
    "trusted": true,
    "execution": {
     "iopub.status.busy": "2025-01-17T14:50:46.406041Z",
     "iopub.execute_input": "2025-01-17T14:50:46.406456Z",
     "iopub.status.idle": "2025-01-17T14:50:46.435117Z",
     "shell.execute_reply.started": "2025-01-17T14:50:46.406416Z",
     "shell.execute_reply": "2025-01-17T14:50:46.433835Z"
    },
    "id": "B5hx9hMrfKES",
    "ExecuteTime": {
     "end_time": "2025-05-07T17:57:36.133125Z",
     "start_time": "2025-05-07T17:57:36.117861Z"
    }
   },
   "outputs": [],
   "execution_count": 6
  },
  {
   "cell_type": "code",
   "source": [
    "X.condition.value_counts()"
   ],
   "metadata": {
    "trusted": true,
    "execution": {
     "iopub.status.busy": "2025-01-17T14:50:46.43841Z",
     "iopub.execute_input": "2025-01-17T14:50:46.438803Z",
     "iopub.status.idle": "2025-01-17T14:50:46.457862Z",
     "shell.execute_reply.started": "2025-01-17T14:50:46.438738Z",
     "shell.execute_reply": "2025-01-17T14:50:46.456924Z"
    },
    "id": "0oHSz7SefKES",
    "ExecuteTime": {
     "end_time": "2025-05-07T17:57:36.164405Z",
     "start_time": "2025-05-07T17:57:36.133125Z"
    }
   },
   "outputs": [
    {
     "data": {
      "text/plain": [
       "condition\n",
       "Birth Control    28788\n",
       "Depression        9069\n",
       "Pain              6145\n",
       "Anxiety           5904\n",
       "Name: count, dtype: int64"
      ]
     },
     "execution_count": 7,
     "metadata": {},
     "output_type": "execute_result"
    }
   ],
   "execution_count": 7
  },
  {
   "cell_type": "code",
   "source": [
    "X.head()"
   ],
   "metadata": {
    "trusted": true,
    "execution": {
     "iopub.status.busy": "2025-01-17T14:50:46.45973Z",
     "iopub.execute_input": "2025-01-17T14:50:46.46008Z",
     "iopub.status.idle": "2025-01-17T14:50:46.487301Z",
     "shell.execute_reply.started": "2025-01-17T14:50:46.460053Z",
     "shell.execute_reply": "2025-01-17T14:50:46.486147Z"
    },
    "id": "vqj9zpfXfKES",
    "ExecuteTime": {
     "end_time": "2025-05-07T17:57:36.180028Z",
     "start_time": "2025-05-07T17:57:36.164405Z"
    }
   },
   "outputs": [
    {
     "data": {
      "text/plain": [
       "    uniqueID      condition                                             review\n",
       "2      92703  Birth Control  \"I used to take another oral contraceptive, wh...\n",
       "3     138000  Birth Control  \"This is my first time using any form of birth...\n",
       "9      48928  Birth Control  \"I had been on the pill for many years. When m...\n",
       "11     75612     Depression  \"I have taken anti-depressants for years, with...\n",
       "14     98494  Birth Control  \"Started Nexplanon 2 months ago because I have..."
      ],
      "text/html": [
       "<div>\n",
       "<style scoped>\n",
       "    .dataframe tbody tr th:only-of-type {\n",
       "        vertical-align: middle;\n",
       "    }\n",
       "\n",
       "    .dataframe tbody tr th {\n",
       "        vertical-align: top;\n",
       "    }\n",
       "\n",
       "    .dataframe thead th {\n",
       "        text-align: right;\n",
       "    }\n",
       "</style>\n",
       "<table border=\"1\" class=\"dataframe\">\n",
       "  <thead>\n",
       "    <tr style=\"text-align: right;\">\n",
       "      <th></th>\n",
       "      <th>uniqueID</th>\n",
       "      <th>condition</th>\n",
       "      <th>review</th>\n",
       "    </tr>\n",
       "  </thead>\n",
       "  <tbody>\n",
       "    <tr>\n",
       "      <th>2</th>\n",
       "      <td>92703</td>\n",
       "      <td>Birth Control</td>\n",
       "      <td>\"I used to take another oral contraceptive, wh...</td>\n",
       "    </tr>\n",
       "    <tr>\n",
       "      <th>3</th>\n",
       "      <td>138000</td>\n",
       "      <td>Birth Control</td>\n",
       "      <td>\"This is my first time using any form of birth...</td>\n",
       "    </tr>\n",
       "    <tr>\n",
       "      <th>9</th>\n",
       "      <td>48928</td>\n",
       "      <td>Birth Control</td>\n",
       "      <td>\"I had been on the pill for many years. When m...</td>\n",
       "    </tr>\n",
       "    <tr>\n",
       "      <th>11</th>\n",
       "      <td>75612</td>\n",
       "      <td>Depression</td>\n",
       "      <td>\"I have taken anti-depressants for years, with...</td>\n",
       "    </tr>\n",
       "    <tr>\n",
       "      <th>14</th>\n",
       "      <td>98494</td>\n",
       "      <td>Birth Control</td>\n",
       "      <td>\"Started Nexplanon 2 months ago because I have...</td>\n",
       "    </tr>\n",
       "  </tbody>\n",
       "</table>\n",
       "</div>"
      ]
     },
     "execution_count": 8,
     "metadata": {},
     "output_type": "execute_result"
    }
   ],
   "execution_count": 8
  },
  {
   "cell_type": "code",
   "source": [
    "X_birth= X[X['condition']== 'Birth Control']\n",
    "X_dep= X[X['condition']== 'Depression']\n",
    "X_pain= X[X['condition']== 'Pain']\n",
    "X_anx= X[X['condition']== 'Anxiety']"
   ],
   "metadata": {
    "trusted": true,
    "execution": {
     "iopub.status.busy": "2025-01-17T14:50:46.488544Z",
     "iopub.execute_input": "2025-01-17T14:50:46.488929Z",
     "iopub.status.idle": "2025-01-17T14:50:46.530747Z",
     "shell.execute_reply.started": "2025-01-17T14:50:46.488899Z",
     "shell.execute_reply": "2025-01-17T14:50:46.529608Z"
    },
    "id": "zEFq-Z3hfKET",
    "ExecuteTime": {
     "end_time": "2025-05-07T17:57:36.211235Z",
     "start_time": "2025-05-07T17:57:36.180028Z"
    }
   },
   "outputs": [],
   "execution_count": 9
  },
  {
   "cell_type": "code",
   "source": [
    "X['review'] = X['review'].str.replace('\"', '', regex=False)"
   ],
   "metadata": {
    "trusted": true,
    "execution": {
     "iopub.status.busy": "2025-01-17T14:51:25.351739Z",
     "iopub.execute_input": "2025-01-17T14:51:25.35216Z",
     "iopub.status.idle": "2025-01-17T14:51:25.413938Z",
     "shell.execute_reply.started": "2025-01-17T14:51:25.352124Z",
     "shell.execute_reply": "2025-01-17T14:51:25.412392Z"
    },
    "id": "AiuD7xs4fKEU",
    "ExecuteTime": {
     "end_time": "2025-05-07T17:57:47.611939Z",
     "start_time": "2025-05-07T17:57:47.556588Z"
    }
   },
   "outputs": [],
   "execution_count": 10
  },
  {
   "cell_type": "code",
   "source": [
    "X.head()"
   ],
   "metadata": {
    "trusted": true,
    "execution": {
     "iopub.status.busy": "2025-01-17T14:51:25.415148Z",
     "iopub.execute_input": "2025-01-17T14:51:25.415474Z",
     "iopub.status.idle": "2025-01-17T14:51:25.426006Z",
     "shell.execute_reply.started": "2025-01-17T14:51:25.415446Z",
     "shell.execute_reply": "2025-01-17T14:51:25.424299Z"
    },
    "id": "z_ySk5rOfKEU",
    "ExecuteTime": {
     "end_time": "2025-05-07T17:57:56.328776Z",
     "start_time": "2025-05-07T17:57:56.297993Z"
    }
   },
   "outputs": [
    {
     "data": {
      "text/plain": [
       "    uniqueID      condition                                             review\n",
       "2      92703  Birth Control  I used to take another oral contraceptive, whi...\n",
       "3     138000  Birth Control  This is my first time using any form of birth ...\n",
       "9      48928  Birth Control  I had been on the pill for many years. When my...\n",
       "11     75612     Depression  I have taken anti-depressants for years, with ...\n",
       "14     98494  Birth Control  Started Nexplanon 2 months ago because I have ..."
      ],
      "text/html": [
       "<div>\n",
       "<style scoped>\n",
       "    .dataframe tbody tr th:only-of-type {\n",
       "        vertical-align: middle;\n",
       "    }\n",
       "\n",
       "    .dataframe tbody tr th {\n",
       "        vertical-align: top;\n",
       "    }\n",
       "\n",
       "    .dataframe thead th {\n",
       "        text-align: right;\n",
       "    }\n",
       "</style>\n",
       "<table border=\"1\" class=\"dataframe\">\n",
       "  <thead>\n",
       "    <tr style=\"text-align: right;\">\n",
       "      <th></th>\n",
       "      <th>uniqueID</th>\n",
       "      <th>condition</th>\n",
       "      <th>review</th>\n",
       "    </tr>\n",
       "  </thead>\n",
       "  <tbody>\n",
       "    <tr>\n",
       "      <th>2</th>\n",
       "      <td>92703</td>\n",
       "      <td>Birth Control</td>\n",
       "      <td>I used to take another oral contraceptive, whi...</td>\n",
       "    </tr>\n",
       "    <tr>\n",
       "      <th>3</th>\n",
       "      <td>138000</td>\n",
       "      <td>Birth Control</td>\n",
       "      <td>This is my first time using any form of birth ...</td>\n",
       "    </tr>\n",
       "    <tr>\n",
       "      <th>9</th>\n",
       "      <td>48928</td>\n",
       "      <td>Birth Control</td>\n",
       "      <td>I had been on the pill for many years. When my...</td>\n",
       "    </tr>\n",
       "    <tr>\n",
       "      <th>11</th>\n",
       "      <td>75612</td>\n",
       "      <td>Depression</td>\n",
       "      <td>I have taken anti-depressants for years, with ...</td>\n",
       "    </tr>\n",
       "    <tr>\n",
       "      <th>14</th>\n",
       "      <td>98494</td>\n",
       "      <td>Birth Control</td>\n",
       "      <td>Started Nexplanon 2 months ago because I have ...</td>\n",
       "    </tr>\n",
       "  </tbody>\n",
       "</table>\n",
       "</div>"
      ]
     },
     "execution_count": 11,
     "metadata": {},
     "output_type": "execute_result"
    }
   ],
   "execution_count": 11
  },
  {
   "cell_type": "code",
   "source": [
    "from nltk.corpus import stopwords\n",
    "\n",
    "stop=stopwords.words('english')"
   ],
   "metadata": {
    "trusted": true,
    "execution": {
     "iopub.status.busy": "2025-01-17T14:51:25.427201Z",
     "iopub.execute_input": "2025-01-17T14:51:25.427575Z",
     "iopub.status.idle": "2025-01-17T14:51:25.453328Z",
     "shell.execute_reply.started": "2025-01-17T14:51:25.427535Z",
     "shell.execute_reply": "2025-01-17T14:51:25.452104Z"
    },
    "id": "NDyQuulefKEU",
    "ExecuteTime": {
     "end_time": "2025-05-07T17:58:06.420076Z",
     "start_time": "2025-05-07T17:58:06.394788Z"
    }
   },
   "outputs": [],
   "execution_count": 12
  },
  {
   "cell_type": "code",
   "source": [
    "nltk.download('wordnet')\n",
    "nltk.download('stopwords')\n",
    "nltk.download('punkt')"
   ],
   "metadata": {
    "trusted": true,
    "execution": {
     "iopub.status.busy": "2025-01-17T14:51:25.454476Z",
     "iopub.execute_input": "2025-01-17T14:51:25.454956Z",
     "iopub.status.idle": "2025-01-17T14:51:25.707517Z",
     "shell.execute_reply.started": "2025-01-17T14:51:25.454915Z",
     "shell.execute_reply": "2025-01-17T14:51:25.70658Z"
    },
    "id": "h9HSQe8WfKEU",
    "ExecuteTime": {
     "end_time": "2025-05-07T17:58:06.736586Z",
     "start_time": "2025-05-07T17:58:06.420076Z"
    }
   },
   "outputs": [
    {
     "name": "stderr",
     "output_type": "stream",
     "text": [
      "[nltk_data] Downloading package wordnet to\n",
      "[nltk_data]     C:\\Users\\lenovo\\AppData\\Roaming\\nltk_data...\n",
      "[nltk_data]   Package wordnet is already up-to-date!\n",
      "[nltk_data] Downloading package stopwords to\n",
      "[nltk_data]     C:\\Users\\lenovo\\AppData\\Roaming\\nltk_data...\n",
      "[nltk_data]   Package stopwords is already up-to-date!\n",
      "[nltk_data] Downloading package punkt to\n",
      "[nltk_data]     C:\\Users\\lenovo\\AppData\\Roaming\\nltk_data...\n",
      "[nltk_data]   Package punkt is already up-to-date!\n"
     ]
    },
    {
     "data": {
      "text/plain": [
       "True"
      ]
     },
     "execution_count": 13,
     "metadata": {},
     "output_type": "execute_result"
    }
   ],
   "execution_count": 13
  },
  {
   "cell_type": "code",
   "source": [
    "from nltk.stem import WordNetLemmatizer\n",
    "from nltk.stem import PorterStemmer\n",
    "\n",
    "porter= PorterStemmer()\n",
    "lemmatizer=WordNetLemmatizer()"
   ],
   "metadata": {
    "trusted": true,
    "execution": {
     "iopub.status.busy": "2025-01-17T14:51:25.70856Z",
     "iopub.execute_input": "2025-01-17T14:51:25.708955Z",
     "iopub.status.idle": "2025-01-17T14:51:25.714119Z",
     "shell.execute_reply.started": "2025-01-17T14:51:25.708927Z",
     "shell.execute_reply": "2025-01-17T14:51:25.712847Z"
    },
    "id": "tPug-frMfKEV",
    "ExecuteTime": {
     "end_time": "2025-05-07T17:58:06.766763Z",
     "start_time": "2025-05-07T17:58:06.736586Z"
    }
   },
   "outputs": [],
   "execution_count": 14
  },
  {
   "cell_type": "code",
   "source": [
    "from bs4 import BeautifulSoup\n",
    "import re"
   ],
   "metadata": {
    "trusted": true,
    "execution": {
     "iopub.status.busy": "2025-01-17T14:51:25.715199Z",
     "iopub.execute_input": "2025-01-17T14:51:25.715498Z",
     "iopub.status.idle": "2025-01-17T14:51:26.063086Z",
     "shell.execute_reply.started": "2025-01-17T14:51:25.715473Z",
     "shell.execute_reply": "2025-01-17T14:51:26.062033Z"
    },
    "id": "faUUd4wCfKEV",
    "ExecuteTime": {
     "end_time": "2025-05-07T17:58:06.907385Z",
     "start_time": "2025-05-07T17:58:06.766763Z"
    }
   },
   "outputs": [],
   "execution_count": 15
  },
  {
   "cell_type": "code",
   "source": [
    "X.head()"
   ],
   "metadata": {
    "trusted": true,
    "execution": {
     "iopub.status.busy": "2025-01-17T14:51:26.070483Z",
     "iopub.execute_input": "2025-01-17T14:51:26.070803Z",
     "iopub.status.idle": "2025-01-17T14:51:26.101677Z",
     "shell.execute_reply.started": "2025-01-17T14:51:26.070753Z",
     "shell.execute_reply": "2025-01-17T14:51:26.100418Z"
    },
    "id": "XksWl0q-fKEV",
    "ExecuteTime": {
     "end_time": "2025-05-07T17:58:06.938654Z",
     "start_time": "2025-05-07T17:58:06.907385Z"
    }
   },
   "outputs": [
    {
     "data": {
      "text/plain": [
       "    uniqueID      condition                                             review\n",
       "2      92703  Birth Control  I used to take another oral contraceptive, whi...\n",
       "3     138000  Birth Control  This is my first time using any form of birth ...\n",
       "9      48928  Birth Control  I had been on the pill for many years. When my...\n",
       "11     75612     Depression  I have taken anti-depressants for years, with ...\n",
       "14     98494  Birth Control  Started Nexplanon 2 months ago because I have ..."
      ],
      "text/html": [
       "<div>\n",
       "<style scoped>\n",
       "    .dataframe tbody tr th:only-of-type {\n",
       "        vertical-align: middle;\n",
       "    }\n",
       "\n",
       "    .dataframe tbody tr th {\n",
       "        vertical-align: top;\n",
       "    }\n",
       "\n",
       "    .dataframe thead th {\n",
       "        text-align: right;\n",
       "    }\n",
       "</style>\n",
       "<table border=\"1\" class=\"dataframe\">\n",
       "  <thead>\n",
       "    <tr style=\"text-align: right;\">\n",
       "      <th></th>\n",
       "      <th>uniqueID</th>\n",
       "      <th>condition</th>\n",
       "      <th>review</th>\n",
       "    </tr>\n",
       "  </thead>\n",
       "  <tbody>\n",
       "    <tr>\n",
       "      <th>2</th>\n",
       "      <td>92703</td>\n",
       "      <td>Birth Control</td>\n",
       "      <td>I used to take another oral contraceptive, whi...</td>\n",
       "    </tr>\n",
       "    <tr>\n",
       "      <th>3</th>\n",
       "      <td>138000</td>\n",
       "      <td>Birth Control</td>\n",
       "      <td>This is my first time using any form of birth ...</td>\n",
       "    </tr>\n",
       "    <tr>\n",
       "      <th>9</th>\n",
       "      <td>48928</td>\n",
       "      <td>Birth Control</td>\n",
       "      <td>I had been on the pill for many years. When my...</td>\n",
       "    </tr>\n",
       "    <tr>\n",
       "      <th>11</th>\n",
       "      <td>75612</td>\n",
       "      <td>Depression</td>\n",
       "      <td>I have taken anti-depressants for years, with ...</td>\n",
       "    </tr>\n",
       "    <tr>\n",
       "      <th>14</th>\n",
       "      <td>98494</td>\n",
       "      <td>Birth Control</td>\n",
       "      <td>Started Nexplanon 2 months ago because I have ...</td>\n",
       "    </tr>\n",
       "  </tbody>\n",
       "</table>\n",
       "</div>"
      ]
     },
     "execution_count": 16,
     "metadata": {},
     "output_type": "execute_result"
    }
   ],
   "execution_count": 16
  },
  {
   "cell_type": "code",
   "source": [
    "from nltk.stem import SnowballStemmer\n",
    "\n",
    "stemmer = SnowballStemmer(\"english\")\n",
    "def review_words_stemming (raw_review):\n",
    "    review_text = BeautifulSoup(raw_review, 'html.parser').get_text()\n",
    "    letters_only = re.sub('[^a-zA-Z]', ' ', review_text)\n",
    "    words = letters_only.lower().split()\n",
    "    meaningful_words = [w for w in words if not w in stop]\n",
    "    stemmed_words = [stemmer.stem(w) for w in meaningful_words]\n",
    "\n",
    "    return ' '.join(stemmed_words)\n"
   ],
   "metadata": {
    "trusted": true,
    "execution": {
     "iopub.status.busy": "2025-01-17T14:51:26.106895Z",
     "iopub.execute_input": "2025-01-17T14:51:26.10725Z",
     "iopub.status.idle": "2025-01-17T14:51:26.125233Z",
     "shell.execute_reply.started": "2025-01-17T14:51:26.107225Z",
     "shell.execute_reply": "2025-01-17T14:51:26.123921Z"
    },
    "id": "95gRNQDxfKEV",
    "ExecuteTime": {
     "end_time": "2025-05-07T17:58:16.271748Z",
     "start_time": "2025-05-07T17:58:16.227872Z"
    }
   },
   "outputs": [],
   "execution_count": 17
  },
  {
   "cell_type": "code",
   "source": [
    "X['clean_review']=X['review'].apply(review_words_stemming)"
   ],
   "metadata": {
    "trusted": true,
    "execution": {
     "iopub.status.busy": "2025-01-17T14:51:26.127143Z",
     "iopub.execute_input": "2025-01-17T14:51:26.127473Z",
     "iopub.status.idle": "2025-01-17T14:52:04.790471Z",
     "shell.execute_reply.started": "2025-01-17T14:51:26.127443Z",
     "shell.execute_reply": "2025-01-17T14:52:04.789145Z"
    },
    "id": "lAq-s_B6fKEV",
    "ExecuteTime": {
     "end_time": "2025-05-07T17:59:03.067196Z",
     "start_time": "2025-05-07T17:58:25.702092Z"
    }
   },
   "outputs": [
    {
     "name": "stderr",
     "output_type": "stream",
     "text": [
      "C:\\Users\\lenovo\\AppData\\Local\\Temp\\ipykernel_14572\\3153129685.py:5: MarkupResemblesLocatorWarning: The input looks more like a filename than markup. You may want to open this file and pass the filehandle into Beautiful Soup.\n",
      "  review_text = BeautifulSoup(raw_review, 'html.parser').get_text()\n"
     ]
    }
   ],
   "execution_count": 18
  },
  {
   "cell_type": "code",
   "source": [
    "X.head()"
   ],
   "metadata": {
    "trusted": true,
    "execution": {
     "iopub.status.busy": "2025-01-17T14:52:04.791982Z",
     "iopub.execute_input": "2025-01-17T14:52:04.792306Z",
     "iopub.status.idle": "2025-01-17T14:52:04.809077Z",
     "shell.execute_reply.started": "2025-01-17T14:52:04.79228Z",
     "shell.execute_reply": "2025-01-17T14:52:04.80753Z"
    },
    "id": "h3PLQNuFfKEV",
    "ExecuteTime": {
     "end_time": "2025-05-07T17:59:03.083144Z",
     "start_time": "2025-05-07T17:59:03.067196Z"
    }
   },
   "outputs": [
    {
     "data": {
      "text/plain": [
       "    uniqueID      condition  \\\n",
       "2      92703  Birth Control   \n",
       "3     138000  Birth Control   \n",
       "9      48928  Birth Control   \n",
       "11     75612     Depression   \n",
       "14     98494  Birth Control   \n",
       "\n",
       "                                               review  \\\n",
       "2   I used to take another oral contraceptive, whi...   \n",
       "3   This is my first time using any form of birth ...   \n",
       "9   I had been on the pill for many years. When my...   \n",
       "11  I have taken anti-depressants for years, with ...   \n",
       "14  Started Nexplanon 2 months ago because I have ...   \n",
       "\n",
       "                                         clean_review  \n",
       "2   use take anoth oral contracept pill cycl happi...  \n",
       "3   first time use form birth control glad went pa...  \n",
       "9   pill mani year doctor chang rx chateal effect ...  \n",
       "11  taken anti depress year improv most moder seve...  \n",
       "14  start nexplanon month ago minim amount contrac...  "
      ],
      "text/html": [
       "<div>\n",
       "<style scoped>\n",
       "    .dataframe tbody tr th:only-of-type {\n",
       "        vertical-align: middle;\n",
       "    }\n",
       "\n",
       "    .dataframe tbody tr th {\n",
       "        vertical-align: top;\n",
       "    }\n",
       "\n",
       "    .dataframe thead th {\n",
       "        text-align: right;\n",
       "    }\n",
       "</style>\n",
       "<table border=\"1\" class=\"dataframe\">\n",
       "  <thead>\n",
       "    <tr style=\"text-align: right;\">\n",
       "      <th></th>\n",
       "      <th>uniqueID</th>\n",
       "      <th>condition</th>\n",
       "      <th>review</th>\n",
       "      <th>clean_review</th>\n",
       "    </tr>\n",
       "  </thead>\n",
       "  <tbody>\n",
       "    <tr>\n",
       "      <th>2</th>\n",
       "      <td>92703</td>\n",
       "      <td>Birth Control</td>\n",
       "      <td>I used to take another oral contraceptive, whi...</td>\n",
       "      <td>use take anoth oral contracept pill cycl happi...</td>\n",
       "    </tr>\n",
       "    <tr>\n",
       "      <th>3</th>\n",
       "      <td>138000</td>\n",
       "      <td>Birth Control</td>\n",
       "      <td>This is my first time using any form of birth ...</td>\n",
       "      <td>first time use form birth control glad went pa...</td>\n",
       "    </tr>\n",
       "    <tr>\n",
       "      <th>9</th>\n",
       "      <td>48928</td>\n",
       "      <td>Birth Control</td>\n",
       "      <td>I had been on the pill for many years. When my...</td>\n",
       "      <td>pill mani year doctor chang rx chateal effect ...</td>\n",
       "    </tr>\n",
       "    <tr>\n",
       "      <th>11</th>\n",
       "      <td>75612</td>\n",
       "      <td>Depression</td>\n",
       "      <td>I have taken anti-depressants for years, with ...</td>\n",
       "      <td>taken anti depress year improv most moder seve...</td>\n",
       "    </tr>\n",
       "    <tr>\n",
       "      <th>14</th>\n",
       "      <td>98494</td>\n",
       "      <td>Birth Control</td>\n",
       "      <td>Started Nexplanon 2 months ago because I have ...</td>\n",
       "      <td>start nexplanon month ago minim amount contrac...</td>\n",
       "    </tr>\n",
       "  </tbody>\n",
       "</table>\n",
       "</div>"
      ]
     },
     "execution_count": 19,
     "metadata": {},
     "output_type": "execute_result"
    }
   ],
   "execution_count": 19
  },
  {
   "cell_type": "code",
   "source": [
    "X_feat=X['clean_review']\n",
    "y=X['condition']"
   ],
   "metadata": {
    "trusted": true,
    "execution": {
     "iopub.status.busy": "2025-01-17T14:52:04.810486Z",
     "iopub.execute_input": "2025-01-17T14:52:04.811147Z",
     "iopub.status.idle": "2025-01-17T14:52:04.836177Z",
     "shell.execute_reply.started": "2025-01-17T14:52:04.811105Z",
     "shell.execute_reply": "2025-01-17T14:52:04.834461Z"
    },
    "id": "d47lOu5NfKEW",
    "ExecuteTime": {
     "end_time": "2025-05-07T17:59:03.102981Z",
     "start_time": "2025-05-07T17:59:03.084236Z"
    }
   },
   "outputs": [],
   "execution_count": 20
  },
  {
   "cell_type": "code",
   "source": [
    "X_train,X_test,y_train,y_test= train_test_split(X_feat,y,stratify=y,test_size=0.2,random_state=0)"
   ],
   "metadata": {
    "trusted": true,
    "execution": {
     "iopub.status.busy": "2025-01-17T14:52:04.837182Z",
     "iopub.execute_input": "2025-01-17T14:52:04.837536Z",
     "iopub.status.idle": "2025-01-17T14:52:04.909812Z",
     "shell.execute_reply.started": "2025-01-17T14:52:04.837506Z",
     "shell.execute_reply": "2025-01-17T14:52:04.908509Z"
    },
    "id": "-kU2k2UkfKEW",
    "ExecuteTime": {
     "end_time": "2025-05-07T17:59:03.149809Z",
     "start_time": "2025-05-07T17:59:03.102981Z"
    }
   },
   "outputs": [],
   "execution_count": 21
  },
  {
   "cell_type": "markdown",
   "source": [
    "#  Bag of words"
   ],
   "metadata": {
    "id": "UjVpiunxfKEW"
   }
  },
  {
   "cell_type": "code",
   "source": [
    "count_vectorizer=CountVectorizer(stop_words= 'english')\n",
    "count_train=count_vectorizer.fit_transform(X_train)\n",
    "count_test=count_vectorizer.transform(X_test)"
   ],
   "metadata": {
    "trusted": true,
    "execution": {
     "iopub.status.busy": "2025-01-17T14:52:04.911069Z",
     "iopub.execute_input": "2025-01-17T14:52:04.911413Z",
     "iopub.status.idle": "2025-01-17T14:52:06.702749Z",
     "shell.execute_reply.started": "2025-01-17T14:52:04.911383Z",
     "shell.execute_reply": "2025-01-17T14:52:06.701199Z"
    },
    "id": "u-HJGg0BfKEW",
    "ExecuteTime": {
     "end_time": "2025-05-07T18:01:18.781693Z",
     "start_time": "2025-05-07T18:01:17.338211Z"
    }
   },
   "outputs": [],
   "execution_count": 22
  },
  {
   "cell_type": "code",
   "source": [
    "import matplotlib.pyplot as plt\n",
    "import numpy as np\n",
    "\n",
    "def plot_confusion_matrix(cm, classes, title='Confusion matrix', cmap=plt.cm.Blues):\n",
    "    plt.figure(figsize=(8, 6))\n",
    "    plt.imshow(cm, interpolation='nearest', cmap=cmap)\n",
    "    plt.title(title)\n",
    "    plt.colorbar()\n",
    "    tick_marks = np.arange(len(classes))\n",
    "    plt.xticks(tick_marks, classes, rotation=45)\n",
    "    plt.yticks(tick_marks, classes)\n",
    "\n",
    "    fmt = 'd' if cm.dtype == int else '.2f'\n",
    "    thresh = cm.max() / 2.\n",
    "    for i, j in np.ndindex(cm.shape):\n",
    "        plt.text(j, i, format(cm[i, j], fmt),\n",
    "                 horizontalalignment=\"center\",\n",
    "                 color=\"white\" if cm[i, j] > thresh else \"black\")\n",
    "\n",
    "    plt.tight_layout()\n",
    "    plt.ylabel('True label')\n",
    "    plt.xlabel('Predicted label')\n",
    "    plt.show()\n"
   ],
   "metadata": {
    "trusted": true,
    "execution": {
     "iopub.status.busy": "2025-01-17T14:52:06.704303Z",
     "iopub.execute_input": "2025-01-17T14:52:06.704755Z",
     "iopub.status.idle": "2025-01-17T14:52:06.714342Z",
     "shell.execute_reply.started": "2025-01-17T14:52:06.704712Z",
     "shell.execute_reply": "2025-01-17T14:52:06.71295Z"
    },
    "id": "TJ4AfcOffKEX",
    "ExecuteTime": {
     "end_time": "2025-05-07T18:01:50.010937Z",
     "start_time": "2025-05-07T18:01:49.995690Z"
    }
   },
   "outputs": [],
   "execution_count": 23
  },
  {
   "cell_type": "markdown",
   "source": "# Bag of words + Naive Baiyes",
   "metadata": {
    "id": "v4cAd7GMfKEX"
   }
  },
  {
   "cell_type": "code",
   "source": [
    "mnb=MultinomialNB()\n",
    "mnb.fit(count_train,y_train)\n",
    "pred=mnb.predict(count_test)\n",
    "\n",
    "score=metrics.accuracy_score(y_test,pred)\n",
    "print(score)\n",
    "\n",
    "cm=metrics.confusion_matrix(y_test,pred,labels=['Birth Control','Depression','Pain','Anxiety'])\n",
    "plot_confusion_matrix(cm,classes=['Birth Control','Depression','Pain','Anxiety'])"
   ],
   "metadata": {
    "trusted": true,
    "execution": {
     "iopub.status.busy": "2025-01-17T14:52:06.715933Z",
     "iopub.execute_input": "2025-01-17T14:52:06.716313Z",
     "iopub.status.idle": "2025-01-17T14:52:07.23922Z",
     "shell.execute_reply.started": "2025-01-17T14:52:06.716271Z",
     "shell.execute_reply": "2025-01-17T14:52:07.237881Z"
    },
    "id": "dZc0oj4pfKEX",
    "ExecuteTime": {
     "end_time": "2025-05-07T18:02:46.748164Z",
     "start_time": "2025-05-07T18:02:46.357002Z"
    }
   },
   "outputs": [
    {
     "name": "stdout",
     "output_type": "stream",
     "text": [
      "0.9321779202564616\n"
     ]
    },
    {
     "data": {
      "text/plain": [
       "<Figure size 800x600 with 2 Axes>"
      ],
      "image/png": "[encoded data removed]"
     },
     "metadata": {},
     "output_type": "display_data"
    }
   ],
   "execution_count": 24
  },
  {
   "cell_type": "markdown",
   "source": "# TF-IDF(Trigrams) + Passive Aggressive",
   "metadata": {
    "id": "eYBXnH0efKEi"
   }
  },
  {
   "cell_type": "code",
   "source": [
    "tfidf_vectorizer=TfidfVectorizer(stop_words='english',max_df=0.8, ngram_range=(1,3))\n",
    "tfidf_train=tfidf_vectorizer.fit_transform(X_train)\n",
    "tfidf_test=tfidf_vectorizer.transform(X_test)\n",
    "\n",
    "pass_tf=PassiveAggressiveClassifier()\n",
    "pass_tf.fit(tfidf_train,y_train)\n",
    "pred=pass_tf.predict(tfidf_test)\n",
    "score=metrics.accuracy_score(y_test,pred)\n",
    "print(score)\n",
    "\n",
    "\n",
    "cm=metrics.confusion_matrix(y_test,pred,labels=['Birth Control','Depression','Pain','Anxiety'])\n",
    "plot_confusion_matrix(cm,classes=['Birth Control','Depression','Pain','Anxiety'])"
   ],
   "metadata": {
    "trusted": true,
    "execution": {
     "iopub.status.busy": "2025-01-17T14:54:57.807198Z",
     "iopub.execute_input": "2025-01-17T14:54:57.807539Z",
     "iopub.status.idle": "2025-01-17T14:55:10.310387Z",
     "shell.execute_reply.started": "2025-01-17T14:54:57.807513Z",
     "shell.execute_reply": "2025-01-17T14:55:10.308935Z"
    },
    "id": "aVwACWfhfKEi",
    "ExecuteTime": {
     "end_time": "2025-05-07T18:04:52.758014Z",
     "start_time": "2025-05-07T18:04:43.360633Z"
    }
   },
   "outputs": [
    {
     "name": "stdout",
     "output_type": "stream",
     "text": [
      "0.9628330995792427\n"
     ]
    },
    {
     "data": {
      "text/plain": [
       "<Figure size 800x600 with 2 Axes>"
      ],
      "image/png": "[encoded data removed]"
     },
     "metadata": {},
     "output_type": "display_data"
    }
   ],
   "execution_count": 26
  },
  {
   "cell_type": "code",
   "source": [
    "def most_informative_feature_for_class(vectorizer, classifier, classlabel, n=10):\n",
    "    feature_names = vectorizer.get_feature_names_out()\n",
    "    labelid = list(classifier.classes_).index(classlabel)\n",
    "    topn = sorted(zip(classifier.coef_[labelid], feature_names))[-n:]\n",
    "    for coef, feat in topn:\n",
    "        print(f\"Class: {classlabel}, Feature: {feat}, Coefficient: {coef}\")\n",
    "\n",
    "    return topn"
   ],
   "metadata": {
    "trusted": true,
    "execution": {
     "iopub.status.busy": "2025-01-17T15:05:39.003762Z",
     "iopub.execute_input": "2025-01-17T15:05:39.004206Z",
     "iopub.status.idle": "2025-01-17T15:05:39.011161Z",
     "shell.execute_reply.started": "2025-01-17T15:05:39.004173Z",
     "shell.execute_reply": "2025-01-17T15:05:39.009694Z"
    },
    "id": "d5a2Fa9HfKEi",
    "ExecuteTime": {
     "end_time": "2025-05-07T18:09:16.002435Z",
     "start_time": "2025-05-07T18:09:15.956723Z"
    }
   },
   "outputs": [],
   "execution_count": 27
  },
  {
   "cell_type": "code",
   "source": [
    "most_informative_feature_for_class(tfidf_vectorizer,pass_tf,'Birth Control')"
   ],
   "metadata": {
    "trusted": true,
    "execution": {
     "iopub.status.busy": "2025-01-17T15:05:42.963208Z",
     "iopub.execute_input": "2025-01-17T15:05:42.963596Z",
     "iopub.status.idle": "2025-01-17T15:05:46.59724Z",
     "shell.execute_reply.started": "2025-01-17T15:05:42.963565Z",
     "shell.execute_reply": "2025-01-17T15:05:46.596316Z"
    },
    "id": "H00YTczLfKEj",
    "ExecuteTime": {
     "end_time": "2025-05-07T18:09:28.515772Z",
     "start_time": "2025-05-07T18:09:26.118751Z"
    }
   },
   "outputs": [
    {
     "name": "stdout",
     "output_type": "stream",
     "text": [
      "Class: Birth Control, Feature: month, Coefficient: 5.6524331538168\n",
      "Class: Birth Control, Feature: pregnant, Coefficient: 6.157415513109475\n",
      "Class: Birth Control, Feature: bleed, Coefficient: 6.509576432627266\n",
      "Class: Birth Control, Feature: birth control, Coefficient: 6.678756553693618\n",
      "Class: Birth Control, Feature: birth, Coefficient: 6.999154499421624\n",
      "Class: Birth Control, Feature: acn, Coefficient: 7.525333598459159\n",
      "Class: Birth Control, Feature: pill, Coefficient: 7.868234726127953\n",
      "Class: Birth Control, Feature: insert, Coefficient: 8.119973974135565\n",
      "Class: Birth Control, Feature: cramp, Coefficient: 8.335408188081049\n",
      "Class: Birth Control, Feature: period, Coefficient: 11.738420361905003\n"
     ]
    },
    {
     "data": {
      "text/plain": [
       "[(5.6524331538168, 'month'),\n",
       " (6.157415513109475, 'pregnant'),\n",
       " (6.509576432627266, 'bleed'),\n",
       " (6.678756553693618, 'birth control'),\n",
       " (6.999154499421624, 'birth'),\n",
       " (7.525333598459159, 'acn'),\n",
       " (7.868234726127953, 'pill'),\n",
       " (8.119973974135565, 'insert'),\n",
       " (8.335408188081049, 'cramp'),\n",
       " (11.738420361905003, 'period')]"
      ]
     },
     "execution_count": 28,
     "metadata": {},
     "output_type": "execute_result"
    }
   ],
   "execution_count": 28
  },
  {
   "cell_type": "code",
   "source": [
    "most_informative_feature_for_class(tfidf_vectorizer,pass_tf,'Depression')"
   ],
   "metadata": {
    "trusted": true,
    "execution": {
     "iopub.status.busy": "2025-01-17T15:06:03.726005Z",
     "iopub.execute_input": "2025-01-17T15:06:03.72635Z",
     "iopub.status.idle": "2025-01-17T15:06:07.409187Z",
     "shell.execute_reply.started": "2025-01-17T15:06:03.726323Z",
     "shell.execute_reply": "2025-01-17T15:06:07.407942Z"
    },
    "id": "vt3ia4HOfKEk",
    "ExecuteTime": {
     "end_time": "2025-05-07T18:09:31.171858Z",
     "start_time": "2025-05-07T18:09:28.515772Z"
    }
   },
   "outputs": [
    {
     "name": "stdout",
     "output_type": "stream",
     "text": [
      "Class: Depression, Feature: pristiq, Coefficient: 3.949945959394017\n",
      "Class: Depression, Feature: viibryd, Coefficient: 4.790309147174327\n",
      "Class: Depression, Feature: celexa, Coefficient: 4.879962761260835\n",
      "Class: Depression, Feature: abilifi, Coefficient: 4.885157159414067\n",
      "Class: Depression, Feature: brintellix, Coefficient: 4.893840924292783\n",
      "Class: Depression, Feature: prozac, Coefficient: 5.087891136141492\n",
      "Class: Depression, Feature: zoloft, Coefficient: 5.510997178170327\n",
      "Class: Depression, Feature: wellbutrin, Coefficient: 5.652074901096836\n",
      "Class: Depression, Feature: antidepress, Coefficient: 5.692600601541958\n",
      "Class: Depression, Feature: depress, Coefficient: 10.915922618188782\n"
     ]
    },
    {
     "data": {
      "text/plain": [
       "[(3.949945959394017, 'pristiq'),\n",
       " (4.790309147174327, 'viibryd'),\n",
       " (4.879962761260835, 'celexa'),\n",
       " (4.885157159414067, 'abilifi'),\n",
       " (4.893840924292783, 'brintellix'),\n",
       " (5.087891136141492, 'prozac'),\n",
       " (5.510997178170327, 'zoloft'),\n",
       " (5.652074901096836, 'wellbutrin'),\n",
       " (5.692600601541958, 'antidepress'),\n",
       " (10.915922618188782, 'depress')]"
      ]
     },
     "execution_count": 29,
     "metadata": {},
     "output_type": "execute_result"
    }
   ],
   "execution_count": 29
  },
  {
   "cell_type": "code",
   "source": "most_informative_feature_for_class(tfidf_vectorizer,pass_tf,'Pain')",
   "metadata": {
    "trusted": true,
    "execution": {
     "iopub.status.busy": "2025-01-17T15:06:58.160307Z",
     "iopub.execute_input": "2025-01-17T15:06:58.160663Z",
     "iopub.status.idle": "2025-01-17T15:07:01.704568Z",
     "shell.execute_reply.started": "2025-01-17T15:06:58.160636Z",
     "shell.execute_reply": "2025-01-17T15:07:01.702876Z"
    },
    "id": "4iJSWPl9fKEl",
    "ExecuteTime": {
     "end_time": "2025-05-07T18:09:33.545238Z",
     "start_time": "2025-05-07T18:09:31.171858Z"
    }
   },
   "outputs": [
    {
     "name": "stdout",
     "output_type": "stream",
     "text": [
      "Class: Pain, Feature: vicodin, Coefficient: 3.844088372459097\n",
      "Class: Pain, Feature: opana, Coefficient: 3.970123575791518\n",
      "Class: Pain, Feature: disc, Coefficient: 3.9834728428474167\n",
      "Class: Pain, Feature: nucynta, Coefficient: 4.027033256490824\n",
      "Class: Pain, Feature: norco, Coefficient: 4.310893096029563\n",
      "Class: Pain, Feature: oxycontin, Coefficient: 4.319099401994218\n",
      "Class: Pain, Feature: relief, Coefficient: 4.565905046610013\n",
      "Class: Pain, Feature: percocet, Coefficient: 5.059828868213427\n",
      "Class: Pain, Feature: surgeri, Coefficient: 5.3915381531846345\n",
      "Class: Pain, Feature: pain, Coefficient: 11.943431534243325\n"
     ]
    },
    {
     "data": {
      "text/plain": [
       "[(3.844088372459097, 'vicodin'),\n",
       " (3.970123575791518, 'opana'),\n",
       " (3.9834728428474167, 'disc'),\n",
       " (4.027033256490824, 'nucynta'),\n",
       " (4.310893096029563, 'norco'),\n",
       " (4.319099401994218, 'oxycontin'),\n",
       " (4.565905046610013, 'relief'),\n",
       " (5.059828868213427, 'percocet'),\n",
       " (5.3915381531846345, 'surgeri'),\n",
       " (11.943431534243325, 'pain')]"
      ]
     },
     "execution_count": 30,
     "metadata": {},
     "output_type": "execute_result"
    }
   ],
   "execution_count": 30
  },
  {
   "cell_type": "code",
   "source": "most_informative_feature_for_class(tfidf_vectorizer,pass_tf,'Anxiety')",
   "metadata": {
    "trusted": true,
    "execution": {
     "iopub.status.busy": "2025-01-17T15:07:31.560275Z",
     "iopub.execute_input": "2025-01-17T15:07:31.560641Z",
     "iopub.status.idle": "2025-01-17T15:07:35.090612Z",
     "shell.execute_reply.started": "2025-01-17T15:07:31.560612Z",
     "shell.execute_reply": "2025-01-17T15:07:35.089299Z"
    },
    "id": "uUriZhysfKEl",
    "ExecuteTime": {
     "end_time": "2025-05-07T18:09:36.187382Z",
     "start_time": "2025-05-07T18:09:33.545238Z"
    }
   },
   "outputs": [
    {
     "name": "stdout",
     "output_type": "stream",
     "text": [
      "Class: Anxiety, Feature: lorazepam, Coefficient: 3.190199779452095\n",
      "Class: Anxiety, Feature: medicin work great, Coefficient: 3.322834410758502\n",
      "Class: Anxiety, Feature: panic, Coefficient: 3.528747893310726\n",
      "Class: Anxiety, Feature: klonopin, Coefficient: 4.201980626204492\n",
      "Class: Anxiety, Feature: valium, Coefficient: 4.402824319373138\n",
      "Class: Anxiety, Feature: xanax, Coefficient: 4.429125637691589\n",
      "Class: Anxiety, Feature: calm, Coefficient: 4.490123550616656\n",
      "Class: Anxiety, Feature: ativan, Coefficient: 5.15437601828213\n",
      "Class: Anxiety, Feature: buspar, Coefficient: 6.831454816886167\n",
      "Class: Anxiety, Feature: anxieti, Coefficient: 13.602679314718877\n"
     ]
    },
    {
     "data": {
      "text/plain": [
       "[(3.190199779452095, 'lorazepam'),\n",
       " (3.322834410758502, 'medicin work great'),\n",
       " (3.528747893310726, 'panic'),\n",
       " (4.201980626204492, 'klonopin'),\n",
       " (4.402824319373138, 'valium'),\n",
       " (4.429125637691589, 'xanax'),\n",
       " (4.490123550616656, 'calm'),\n",
       " (5.15437601828213, 'ativan'),\n",
       " (6.831454816886167, 'buspar'),\n",
       " (13.602679314718877, 'anxieti')]"
      ]
     },
     "execution_count": 31,
     "metadata": {},
     "output_type": "execute_result"
    }
   ],
   "execution_count": 31
  },
  {
   "metadata": {},
   "cell_type": "code",
   "outputs": [],
   "execution_count": null,
   "source": ""
  }
 ]
}
