{
 "cells": [
  {
   "cell_type": "code",
   "id": "initial_id",
   "metadata": {
    "collapsed": true,
    "ExecuteTime": {
     "end_time": "2025-05-07T18:43:28.581290Z",
     "start_time": "2025-05-07T18:43:26.115771Z"
    }
   },
   "source": [
    "import pandas as pd\n",
    "import matplotlib.pyplot as plt\n",
    "\n",
    "df = pd.read_csv('D:/python/project/7102/group/group/input/kuc-hackathon-winter-2018/drugsComTrain_raw.csv')\n",
    "\n",
    "drug_counts = df['drugName'].value_counts()\n",
    "top_four_drugs = drug_counts.head(20)\n",
    "other_drugs_count = drug_counts[20:].sum()\n",
    "drug_data = pd.concat([top_four_drugs, pd.Series({'Other': other_drugs_count})])\n",
    "condition_counts = df['condition'].value_counts()\n",
    "top_four_conditions = condition_counts.head(20)\n",
    "other_conditions_count = condition_counts[20:].sum()\n",
    "condition_data = pd.concat([top_four_conditions, pd.Series({'Other': other_conditions_count})])\n",
    "plt.figure(figsize=(8, 5))\n",
    "plt.bar(drug_data.index, drug_data.values, color='skyblue')\n",
    "plt.title('Top 20 Drugs by Review Count')\n",
    "plt.xlabel('Drug Name')\n",
    "plt.ylabel('Number of Reviews')\n",
    "plt.xticks(rotation=45, ha='right')\n",
    "for i, v in enumerate(drug_data.values):\n",
    "    plt.text(i, v + 0.5, str(v), ha='center', va='bottom')\n",
    "plt.tight_layout()\n",
    "plt.savefig('top_drugs_review_count.png', dpi=300, bbox_inches='tight')\n",
    "plt.close()\n",
    "\n",
    "plt.figure(figsize=(8, 5))\n",
    "plt.bar(condition_data.index, condition_data.values, color='lightgreen')\n",
    "plt.title('Top 20 Conditions by Review Count')\n",
    "plt.xlabel('Condition')\n",
    "plt.ylabel('Number of Reviews')\n",
    "plt.xticks(rotation=45, ha='right')\n",
    "for i, v in enumerate(condition_data.values):\n",
    "    plt.text(i, v + 0.5, str(v), ha='center', va='bottom')\n",
    "plt.tight_layout()\n",
    "plt.savefig('top_conditions_review_count.png', dpi=300, bbox_inches='tight')\n",
    "plt.close()\n",
    "\n",
    "print(\"The two bar graphs have been saved as 'top_drugs_review_count.png' and 'top_conditions_review_count.png'\")"
   ],
   "outputs": [
    {
     "name": "stdout",
     "output_type": "stream",
     "text": [
      "The two bar graphs have been saved as 'top_drugs_review_count.png' and 'top_conditions_review_count.png'\n"
     ]
    }
   ],
   "execution_count": 1
  },
  {
   "metadata": {
    "ExecuteTime": {
     "end_time": "2025-05-07T18:50:38.744217Z",
     "start_time": "2025-05-07T18:50:37.048592Z"
    }
   },
   "cell_type": "code",
   "source": [
    "import pandas as pd\n",
    "import matplotlib.pyplot as plt\n",
    "\n",
    "birth_control_df = df[df['condition'] == 'Birth Control']\n",
    "birth_control_ratings = birth_control_df.groupby('drugName')['rating'].mean()\n",
    "birth_control_counts = birth_control_df['drugName'].value_counts()\n",
    "top_three_bc_drugs = birth_control_ratings.loc[birth_control_counts.index[:3]].sort_values(ascending=False)\n",
    "other_bc_count = birth_control_counts[3:].sum()\n",
    "bc_data = pd.concat([birth_control_counts.head(3), pd.Series({'Other': other_bc_count})])\n",
    "\n",
    "depression_df = df[df['condition'] == 'Depression']\n",
    "depression_ratings = depression_df.groupby('drugName')['rating'].mean()\n",
    "depression_counts = depression_df['drugName'].value_counts()\n",
    "top_three_dep_drugs = depression_ratings.loc[depression_counts.index[:3]].sort_values(ascending=False)\n",
    "other_dep_count = depression_counts[3:].sum()\n",
    "dep_data = pd.concat([depression_counts.head(3), pd.Series({'Other': other_dep_count})])\n",
    "\n",
    "pain_df = df[df['condition'] == 'Pain']\n",
    "pain_ratings = pain_df.groupby('drugName')['rating'].mean()\n",
    "pain_counts = pain_df['drugName'].value_counts()\n",
    "top_three_pain_drugs = pain_ratings.loc[pain_counts.index[:3]].sort_values(ascending=False)\n",
    "other_pain_count = pain_counts[3:].sum()\n",
    "pain_data = pd.concat([pain_counts.head(3), pd.Series({'Other': other_pain_count})])\n",
    "\n",
    "anxiety_df = df[df['condition'] == 'Anxiety']\n",
    "anxiety_ratings = anxiety_df.groupby('drugName')['rating'].mean()\n",
    "anxiety_counts = anxiety_df['drugName'].value_counts()\n",
    "top_three_anxiety_drugs = anxiety_ratings.loc[anxiety_counts.index[:3]].sort_values(ascending=False)\n",
    "other_anxiety_count = anxiety_counts[3:].sum()\n",
    "anxiety_data = pd.concat([anxiety_counts.head(3), pd.Series({'Other': other_anxiety_count})])\n",
    "\n",
    "plt.figure(figsize=(8, 5))\n",
    "plt.bar(bc_data.index, bc_data.values, color='salmon')\n",
    "plt.title('Top 3 Drugs for Birth Control by Review Count')\n",
    "plt.xlabel('Drug Name')\n",
    "plt.ylabel('Number of Reviews')\n",
    "plt.xticks(rotation=45, ha='right')\n",
    "for i, (drug, count) in enumerate(zip(bc_data.index, bc_data.values)):\n",
    "    if drug != 'Other':\n",
    "        rating = top_three_bc_drugs[drug]\n",
    "        plt.text(i, count + 0.5, f'{count}\\n({rating:.1f})', ha='center', va='bottom')\n",
    "    else:\n",
    "        plt.text(i, count + 0.5, str(count), ha='center', va='bottom')\n",
    "plt.tight_layout()\n",
    "plt.savefig('top_birth_control_drugs.png', dpi=300, bbox_inches='tight')\n",
    "plt.close()\n",
    "\n",
    "plt.figure(figsize=(8, 5))\n",
    "plt.bar(dep_data.index, dep_data.values, color='salmon')\n",
    "plt.title('Top 3 Drugs for Depression by Review Count')\n",
    "plt.xlabel('Drug Name')\n",
    "plt.ylabel('Number of Reviews')\n",
    "plt.xticks(rotation=45, ha='right')\n",
    "for i, (drug, count) in enumerate(zip(dep_data.index, dep_data.values)):\n",
    "    if drug != 'Other':\n",
    "        rating = top_three_dep_drugs[drug]\n",
    "        plt.text(i, count + 0.5, f'{count}\\n({rating:.1f})', ha='center', va='bottom')\n",
    "    else:\n",
    "        plt.text(i, count + 0.5, str(count), ha='center', va='bottom')\n",
    "plt.tight_layout()\n",
    "plt.savefig('top_depression_drugs.png', dpi=300, bbox_inches='tight')\n",
    "plt.close()\n",
    "\n",
    "plt.figure(figsize=(8, 5))\n",
    "plt.bar(pain_data.index, pain_data.values, color='salmon')\n",
    "plt.title('Top 3 Drugs for Pain by Review Count')\n",
    "plt.xlabel('Drug Name')\n",
    "plt.ylabel('Number of Reviews')\n",
    "plt.xticks(rotation=45, ha='right')\n",
    "for i, (drug, count) in enumerate(zip(pain_data.index, pain_data.values)):\n",
    "    if drug != 'Other':\n",
    "        rating = top_three_pain_drugs[drug]\n",
    "        plt.text(i, count + 0.5, f'{count}\\n({rating:.1f})', ha='center', va='bottom')\n",
    "    else:\n",
    "        plt.text(i, count + 0.5, str(count), ha='center', va='bottom')\n",
    "plt.tight_layout()\n",
    "plt.savefig('top_pain_drugs.png', dpi=300, bbox_inches='tight')\n",
    "plt.close()\n",
    "\n",
    "plt.figure(figsize=(8, 5))\n",
    "plt.bar(anxiety_data.index, anxiety_data.values, color='salmon')\n",
    "plt.title('Top 3 Drugs for Anxiety by Review Count')\n",
    "plt.xlabel('Drug Name')\n",
    "plt.ylabel('Number of Reviews')\n",
    "plt.xticks(rotation=45, ha='right')\n",
    "for i, (drug, count) in enumerate(zip(anxiety_data.index, anxiety_data.values)):\n",
    "    if drug != 'Other':\n",
    "        rating = top_three_anxiety_drugs[drug]\n",
    "        plt.text(i, count + 0.5, f'{count}\\n({rating:.1f})', ha='center', va='bottom')\n",
    "    else:\n",
    "        plt.text(i, count + 0.5, str(count), ha='center', va='bottom')\n",
    "plt.tight_layout()\n",
    "plt.savefig('top_anxiety_drugs.png', dpi=300, bbox_inches='tight')\n",
    "plt.close()\n",
    "\n",
    "print(\"The four bar graphs have been saved as 'top_birth_control_drugs.png', 'top_depression_drugs.png', 'top_pain_drugs.png' and 'top_anxiety_drugs.png'\")"
   ],
   "id": "5903d927fff0e2ef",
   "outputs": [
    {
     "name": "stdout",
     "output_type": "stream",
     "text": [
      "The four bar graphs have been saved as 'top_birth_control_drugs.png', 'top_depression_drugs.png', 'top_pain_drugs.png' and 'top_anxiety_drugs.png'\n"
     ]
    }
   ],
   "execution_count": 3
  },
  {
   "metadata": {},
   "cell_type": "code",
   "outputs": [],
   "execution_count": null,
   "source": "",
   "id": "c9a0acef8e8a9cb1"
  }
 ],
 "metadata": {
  "kernelspec": {
   "display_name": "Python 3",
   "language": "python",
   "name": "python3"
  },
  "language_info": {
   "codemirror_mode": {
    "name": "ipython",
    "version": 2
   },
   "file_extension": ".py",
   "mimetype": "text/x-python",
   "name": "python",
   "nbconvert_exporter": "python",
   "pygments_lexer": "ipython2",
   "version": "2.7.6"
  }
 },
 "nbformat": 4,
 "nbformat_minor": 5
}
